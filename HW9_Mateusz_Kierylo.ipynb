{
  "nbformat": 4,
  "nbformat_minor": 0,
  "metadata": {
    "colab": {
      "provenance": []
    },
    "kernelspec": {
      "name": "python3",
      "display_name": "Python 3"
    },
    "language_info": {
      "name": "python"
    }
  },
  "cells": [
    {
      "cell_type": "markdown",
      "source": [
        "### **TASK**\n",
        "\n",
        "You have purchased the company where you once worked. The company is barely making ends meet, although its processes are well-established. After analyzing them, you realized that the services offered by the company are not optimal. Currently, the company provides three different services, with uneven income, and due to a lack of focus on the most profitable product, the company is missing out on profit.\n",
        "\n",
        "You have already optimized the company's operations by choosing the set of services that bring the most profit, considering the team's capabilities. Your current task is to formulate an optimization problem for the development process in the company under the following conditions.\n",
        "\n",
        "The process involves designers, developers, and testers. There are two designers in the company, each with a workload of 160 hours per month. There are also two programmers, but their total time is only 192 hours. There is one tester who works overtime for 180 hours.\n",
        "\n",
        "The company can create websites, online stores, and integrations with ERP. The cost of services and the time spent by specialists on each type of work are as follows:\n",
        "\n",
        "![Zrzut ekranu 2024-05-14 o 17.13.42.png](data:image/png;base64,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)\n",
        "\n",
        "\n",
        "Find out which services are more profitable to provide to maximize profit.\n"
      ],
      "metadata": {
        "id": "eskqZHfHrrGq"
      }
    },
    {
      "cell_type": "markdown",
      "source": [
        "**1) Formulating a target income function based on the cost of services.**\n",
        "\n",
        "a) Variables:\n",
        "\n",
        "x_1 - the number of website projects\n",
        "\n",
        "x_2 - the number of online store projects\n",
        "\n",
        "𝑥_3 - the number of ERP integration projects\n",
        "\n",
        "\n",
        "b) Objective function:\n",
        "\n",
        "Z = 2000 * x_1 + 9000 * x_2 + 6000 * x_3\n"
      ],
      "metadata": {
        "id": "o9XmjKjlr4cM"
      }
    },
    {
      "cell_type": "markdown",
      "source": [
        "**2) Condition-based bonding system**\n",
        "\n",
        "a) Designers' constraint\n",
        "(there are 2 designers with a total of 320 hours per month):\n",
        "\n",
        "12 * x_1 + 6 * x_2 + 2 * x_3 <= 320\n"
      ],
      "metadata": {
        "id": "Ooo96lwjt0uH"
      }
    },
    {
      "cell_type": "markdown",
      "source": [
        "\n",
        "b) Developers' constraint (there are 2 developers with a total of 192 hours per month):\n",
        "\n",
        "12 * x_1 + 24 * x_2 + 18 * x_3 <= 192"
      ],
      "metadata": {
        "id": "0x6t-6Q7ulDA"
      }
    },
    {
      "cell_type": "markdown",
      "source": [
        "c) Testers' constraint (there is 1 tester with 180 hours per month):\n",
        "\n",
        "12 * x_1 + 18 * x_2 + 12 * x_3 <= 180"
      ],
      "metadata": {
        "id": "4ixV5mUvuu0v"
      }
    },
    {
      "cell_type": "markdown",
      "source": [
        "d) Non-negativity constraint:\n",
        "\n",
        "x_1, x_2, x_3 ≥0"
      ],
      "metadata": {
        "id": "oKuy_tKhvQRO"
      }
    },
    {
      "cell_type": "markdown",
      "source": [
        "3 + 4) Finding optimal service distribution using SciPy library.\n",
        "Calculation of the company's total monthly income with optimal distribution of functions"
      ],
      "metadata": {
        "id": "lwOwLdZvvaHo"
      }
    },
    {
      "cell_type": "code",
      "execution_count": 6,
      "metadata": {
        "colab": {
          "base_uri": "https://localhost:8080/"
        },
        "id": "aNKemkxmrdmc",
        "outputId": "fadce222-2e83-40ad-dfcd-7e4c8b211aba"
      },
      "outputs": [
        {
          "output_type": "stream",
          "name": "stdout",
          "text": [
            "Optimal number of websites: 0.0\n",
            "Optimal number of online stores: 8.0\n",
            "Optimal number of ERP integrations: 0.0\n",
            "Maximum profit: $72.0k\n"
          ]
        }
      ],
      "source": [
        "import numpy as np\n",
        "from scipy.optimize import linprog\n",
        "\n",
        "# Coefficients of the objective function (negative because linprog performs minimization)\n",
        "c = [-2, -9, -6]\n",
        "\n",
        "# Coefficients of the inequality constraints\n",
        "A = [\n",
        "    [12, 6, 2],\n",
        "    [12, 24, 18],\n",
        "    [12, 18, 12]\n",
        "]\n",
        "\n",
        "# Right-hand side of the inequality constraints\n",
        "b = [320, 192, 180]\n",
        "\n",
        "# Bounds for the variables (all variables must be non-negative)\n",
        "x_bounds = (0, None)\n",
        "bounds = [x_bounds, x_bounds, x_bounds]\n",
        "\n",
        "# Solving the linear programming problem\n",
        "result = linprog(c, A_ub=A, b_ub=b, bounds=bounds, method='highs')\n",
        "\n",
        "# Printing the result\n",
        "print(\"Optimal number of websites:\", result.x[0])\n",
        "print(\"Optimal number of online stores:\", result.x[1])\n",
        "print(\"Optimal number of ERP integrations:\", result.x[2])\n",
        "print(f\"Maximum profit: ${-result.fun}k\")\n"
      ]
    },
    {
      "cell_type": "markdown",
      "source": [
        "CONCLUSIONS:\n",
        "\n",
        "The optimization was successful, and the optimal distribution of projects to maximize monthly income is as follows:\n",
        "\n",
        "Sites (x_1): 0 projects\n",
        "Online Stores (x_2): 8 projects\n",
        "Integration with ERP (x_3): 0 projects\n",
        "With this distribution, the total monthly income of the company is $72,000"
      ],
      "metadata": {
        "id": "dbfn3NlozN9u"
      }
    }
  ]
}